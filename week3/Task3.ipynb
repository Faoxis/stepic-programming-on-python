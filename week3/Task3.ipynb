{
 "cells": [
  {
   "cell_type": "markdown",
   "metadata": {},
   "source": [
    "# 3. Модуль 3"
   ]
  },
  {
   "cell_type": "markdown",
   "metadata": {},
   "source": [
    "## 3.1. Функции"
   ]
  },
  {
   "cell_type": "code",
   "execution_count": null,
   "metadata": {
    "collapsed": true
   },
   "outputs": [],
   "source": [
    "# Функция с произвольным числом аргументов\n",
    "def min(*a): # *а означает, что мы накапливаем все значения в список а\n",
    "    m = a[0]\n",
    "    for x in a:\n",
    "        if m > x:\n",
    "            m = x;\n",
    "    return m"
   ]
  },
  {
   "cell_type": "code",
   "execution_count": 10,
   "metadata": {
    "collapsed": false
   },
   "outputs": [
    {
     "name": "stdout",
     "output_type": "stream",
     "text": [
      "[1, 2, 3, 4, 5, 6, 7, 8, 9]\n",
      "[1, 2, 3, 4, 5, 6, 7, 8, 9]\n"
     ]
    }
   ],
   "source": [
    "# Функция со значениями параметров по умолчанию\n",
    "def my_range(start, stop, step = 1): # если параметр step не указан, то он автоматически по умолчанию станет равен 1\n",
    "    res = []\n",
    "    if step > 0:\n",
    "        x = start\n",
    "        while x < stop:\n",
    "            res += [x]\n",
    "            x += step\n",
    "    elif step < 0:\n",
    "        x = start\n",
    "        while x > stop:\n",
    "            res += [x]\n",
    "            x += step\n",
    "    return res\n",
    "\n",
    "print(my_range(1, 10, 1))\n",
    "print(my_range(1, 10, 1))"
   ]
  },
  {
   "cell_type": "code",
   "execution_count": 11,
   "metadata": {
    "collapsed": false
   },
   "outputs": [
    {
     "name": "stdout",
     "output_type": "stream",
     "text": [
      "[1, 2, 3, 4, 5, 6, 7, 8, 9]\n"
     ]
    }
   ],
   "source": [
    "# Передача параметра по имени\n",
    "print(my_range(step = 1, stop = 10, start = 1))"
   ]
  },
  {
   "cell_type": "code",
   "execution_count": 12,
   "metadata": {
    "collapsed": false
   },
   "outputs": [
    {
     "name": "stdout",
     "output_type": "stream",
     "text": [
      "0\n"
     ]
    }
   ],
   "source": [
    "# Если в качестве аргумента функции передать переменную, но в функцию будет передана ее локальная копия\n",
    "def changeArg(a):\n",
    "    a = 100\n",
    "b = 0\n",
    "changeArg(b)\n",
    "print(b) # b = 0"
   ]
  },
  {
   "cell_type": "code",
   "execution_count": 17,
   "metadata": {
    "collapsed": false
   },
   "outputs": [
    {
     "name": "stdout",
     "output_type": "stream",
     "text": [
      "[123]\n"
     ]
    }
   ],
   "source": [
    "# Однако, если передать объект, а не переменную, то он изменится\n",
    "def changeArg(a):\n",
    "    a.append(123)\n",
    "b = []\n",
    "changeArg(b)\n",
    "print(b) # список b содержит новый элемент "
   ]
  },
  {
   "cell_type": "code",
   "execution_count": null,
   "metadata": {
    "collapsed": true
   },
   "outputs": [],
   "source": [
    "# Задача 1\n",
    "def f(x):\n",
    "    # put your python code here\n",
    "    ans = 0\n",
    "    if x <= -2:\n",
    "        ans = 1 - (x + 2) * (x + 2)\n",
    "    elif -2 < x <= 2:\n",
    "        ans = -x / 2\n",
    "    elif 2 < x:\n",
    "        ans = (x - 2) * (x - 2) + 1\n",
    "    return ans"
   ]
  },
  {
   "cell_type": "code",
   "execution_count": 43,
   "metadata": {
    "collapsed": false
   },
   "outputs": [
    {
     "name": "stdout",
     "output_type": "stream",
     "text": [
      "None\n",
      "[1, 2, 3]\n",
      "[1]\n",
      "[5, 4]\n"
     ]
    }
   ],
   "source": [
    "# Задача 2\n",
    "def modify_list(l):\n",
    "    i = 0\n",
    "    while len(l) > i:\n",
    "        if l[i] % 2 == 1:\n",
    "            del l[i]\n",
    "            i = i - 1\n",
    "            \n",
    "        i = i + 1\n",
    "    for j in range(len(l)):\n",
    "        l[j] = l[j] // 2\n",
    "        \n",
    "        \n",
    "lst = [1, 2, 3, 4, 5, 6]\n",
    "print(modify_list(lst))  # None\n",
    "print(lst)               # [1, 2, 3]\n",
    "modify_list(lst)\n",
    "print(lst)               # [1]\n",
    "\n",
    "lst = [10, 5, 8, 3]\n",
    "modify_list(lst)\n",
    "print(lst)               # [5, 4]"
   ]
  },
  {
   "cell_type": "markdown",
   "metadata": {},
   "source": [
    "## 3.2. Словари"
   ]
  },
  {
   "cell_type": "markdown",
   "metadata": {},
   "source": [
    "### 3.2.1. Множества"
   ]
  },
  {
   "cell_type": "code",
   "execution_count": 44,
   "metadata": {
    "collapsed": false
   },
   "outputs": [
    {
     "data": {
      "text/plain": [
       "True"
      ]
     },
     "execution_count": 44,
     "metadata": {},
     "output_type": "execute_result"
    }
   ],
   "source": [
    "s = set() # Создание пустого множества\n",
    "basket = {'apple', 'orange', 'apple', 'pear', 'orange', 'banana'} # Создание непустого множества, повторные элементы удаляются\n",
    "'orange' in basket # Проверка на наличие элемента в множеств\n"
   ]
  },
  {
   "cell_type": "code",
   "execution_count": null,
   "metadata": {
    "collapsed": true
   },
   "outputs": [],
   "source": [
    "# Операции с множествами\n",
    "s.add('element')\n",
    "s.remove('element') # если элемента нет, то ошибка\n",
    "s.discard('element') # удаление элемента без вызова ошибки при его отсутствии\n",
    "s.clear() # удаление всех элементов множества\n",
    "len(s) # число элементов в очереде"
   ]
  },
  {
   "cell_type": "markdown",
   "metadata": {},
   "source": [
    "### 3.2.1. Словари"
   ]
  },
  {
   "cell_type": "code",
   "execution_count": 45,
   "metadata": {
    "collapsed": false
   },
   "outputs": [
    {
     "name": "stdout",
     "output_type": "stream",
     "text": [
      "239\n",
      "100\n"
     ]
    }
   ],
   "source": [
    "# Словарь позволяет хранить значения в парах ключ-значение\n",
    "# Структура данных словаря - dict\n",
    "d = {} # создание пустого словаря, способ 1\n",
    "d = dict() # создание пустого словаря, способ 2\n",
    "d = {'a': 239, 10: 100}\n",
    "print(d['a'])\n",
    "print(d[10])"
   ]
  },
  {
   "cell_type": "code",
   "execution_count": 47,
   "metadata": {
    "collapsed": false
   },
   "outputs": [],
   "source": [
    "# Операции со словарями\n",
    "'key' in d # Проверка словаря на наличие ключа\n",
    "'key' not in d\n",
    "\n",
    "d['key'] = 'door' #добавление в словарь d по ключу key значение door\n",
    "d['key'] # получение значения по ключу, если такого ключа нет, то ошибка\n",
    "d.get('key') # получение значение по ключу, если такого ключа нет, то функция вернет None\n",
    "del d['key'] # удаление из словаря ключ-значения"
   ]
  },
  {
   "cell_type": "code",
   "execution_count": null,
   "metadata": {
    "collapsed": true
   },
   "outputs": [],
   "source": [
    "# Характеристики словарей:\n",
    "#     Изменяемы\n",
    "#     Элементы не имеют порядка\n",
    "#     Все ключи различны\n",
    "#     Ключи неизменяемы"
   ]
  },
  {
   "cell_type": "code",
   "execution_count": 65,
   "metadata": {
    "collapsed": false
   },
   "outputs": [
    {
     "name": "stdout",
     "output_type": "stream",
     "text": [
      "A G T C \n",
      "A G T C \n",
      "12 18 9 14 \n",
      "A - 12;G - 18;T - 9;C - 14;"
     ]
    }
   ],
   "source": [
    "# Перебор элементов словаря\n",
    "d = {'C': 14, 'A': 12, 'T':9, 'G':18}\n",
    "for key in d:\n",
    "    print(key, end=' ') # G C A T\n",
    "print()\n",
    "for key in d.keys():\n",
    "    print(key, end = ' ') #G C A T\n",
    "print()\n",
    "for value in d.values():\n",
    "    print(value, end=' ') #18 14 12 9\n",
    "print()\n",
    "for key, value in d.items():\n",
    "    print(key,'-', value, end = ';') #A - 12;G - 18;T - 9;C - 14;"
   ]
  },
  {
   "cell_type": "code",
   "execution_count": 72,
   "metadata": {
    "collapsed": false
   },
   "outputs": [
    {
     "name": "stdout",
     "output_type": "stream",
     "text": [
      "None\n",
      "{2: [-1]}\n",
      "{2: [-1, -2]}\n",
      "{2: [-1, -2, -3]}\n"
     ]
    }
   ],
   "source": [
    "# Задача 1\n",
    "def update_dictionary(d, key, value):\n",
    "    if d.get(key) is not None:\n",
    "        d[key] += [value]\n",
    "    elif d.get(2 * key) is not None:\n",
    "        d[2 * key] += [value]\n",
    "    else:\n",
    "        d[2 * key] = [value]\n",
    "            \n",
    "d = {}\n",
    "print(update_dictionary(d, 1, -1))  # None\n",
    "print(d)                            # {2: [-1]}\n",
    "update_dictionary(d, 2, -2)\n",
    "print(d)                            # {2: [-1, -2]}\n",
    "update_dictionary(d, 1, -3)\n",
    "print(d)                            # {2: [-1, -2, -3]}"
   ]
  },
  {
   "cell_type": "code",
   "execution_count": 82,
   "metadata": {
    "collapsed": false
   },
   "outputs": [
    {
     "name": "stdout",
     "output_type": "stream",
     "text": [
      "a aa abC aa ac abc bcd a\n",
      "aa 2\n",
      "a 2\n",
      "abc 2\n",
      "bcd 1\n",
      "ac 1\n"
     ]
    }
   ],
   "source": [
    "# Задача 2\n",
    "\n",
    "def countKeyValue(d, key):\n",
    "    key = key.lower()\n",
    "    if d.get(key) is not None:\n",
    "        d[key] = d[key] + 1\n",
    "    else:\n",
    "        d[key] = 1\n",
    "\n",
    "\n",
    "strings = [s for s in input().split(\" \")]\n",
    "myDict = dict()\n",
    "for s in strings:\n",
    "    countKeyValue(myDict, s)\n",
    "\n",
    "for key,value in myDict.items():\n",
    "    print(key, value)"
   ]
  },
  {
   "cell_type": "code",
   "execution_count": 89,
   "metadata": {
    "collapsed": false
   },
   "outputs": [
    {
     "name": "stdout",
     "output_type": "stream",
     "text": [
      "0\n"
     ]
    }
   ],
   "source": [
    "# Задача 3\n",
    "n = int(input())\n",
    "d = dict()\n",
    "x = 0\n",
    "for i in range(n):\n",
    "    x = int(input())\n",
    "    if d.get(x) is not None:\n",
    "        print(d[x])\n",
    "    else:\n",
    "        d[x] = f(x)\n",
    "        print(d[x])"
   ]
  },
  {
   "cell_type": "markdown",
   "metadata": {},
   "source": [
    "## 3.3. Файловый ввод/вывод"
   ]
  },
  {
   "cell_type": "markdown",
   "metadata": {},
   "source": [
    "### 3.3.1. Чтение из файла"
   ]
  },
  {
   "cell_type": "code",
   "execution_count": 94,
   "metadata": {
    "collapsed": false
   },
   "outputs": [],
   "source": [
    "inf = open('D:/1.txt', 'r') # открытие файла D:\\1.txt на чтение (r (read) как второй аргумент)\n",
    "s1 = inf.readline() # чтение первой строки\n",
    "s2 = inf.readline() # чтение второй строки\n",
    "inf.close() # закрытие файла\n",
    "\n",
    "# можно использовать специальную конструкцию для чтения из файла (данный способ рекомендуется)\n",
    "with open('D:\\\\1.txt') as inf:\n",
    "    s1 = inf.readline()\n",
    "    s2 = inf.readline()\n",
    "# здесь файл уже закрыт"
   ]
  },
  {
   "cell_type": "code",
   "execution_count": null,
   "metadata": {
    "collapsed": true
   },
   "outputs": [],
   "source": [
    "# полезные функции\n",
    "s = inf.readline().strip() # функция strip() позволяет избавится от символов типа \\t, \\n и т.д.\n",
    "os.path.join('.', 'dirname', 'filename.txt') # склеивание из нескольких частей полный путь к файлу "
   ]
  },
  {
   "cell_type": "code",
   "execution_count": 102,
   "metadata": {
    "collapsed": false
   },
   "outputs": [
    {
     "name": "stdout",
     "output_type": "stream",
     "text": [
      "Some text\n",
      "25\n"
     ]
    }
   ],
   "source": [
    "# Построчное чтение файла\n",
    "with open('D:\\\\1.txt') as inf:\n",
    "    for line in inf:\n",
    "        line = line.strip()\n",
    "        print(line)"
   ]
  },
  {
   "cell_type": "markdown",
   "metadata": {},
   "source": [
    "### 3.3.2. Запись в файл"
   ]
  },
  {
   "cell_type": "code",
   "execution_count": 97,
   "metadata": {
    "collapsed": true
   },
   "outputs": [],
   "source": [
    "ouf = open('D:\\\\1.txt', 'w')\n",
    "ouf.write('Some text\\n')\n",
    "ouf.write(str(25))\n",
    "ouf.close()\n",
    "\n",
    "# рекомендуемая альтернатива\n",
    "with open('D:\\\\1.txt', 'w') as ouf:\n",
    "    ouf.write('Some text\\n')\n",
    "    ouf.write(str(25))\n",
    "# здесь файл уже закрыт"
   ]
  },
  {
   "cell_type": "markdown",
   "metadata": {},
   "source": [
    "### 3.3.3. Задачи"
   ]
  },
  {
   "cell_type": "code",
   "execution_count": 68,
   "metadata": {
    "collapsed": false
   },
   "outputs": [
    {
     "name": "stdout",
     "output_type": "stream",
     "text": [
      "14\n",
      "14\n",
      "13\n",
      "16\n",
      "4\n",
      "17\n",
      "7\n",
      "2\n",
      "16\n",
      "7\n",
      "3\n",
      "18\n",
      "4\n",
      "15\n",
      "10\n",
      "13\n",
      "8\n",
      "17\n",
      "8\n",
      "11\n",
      "4\n",
      "18\n",
      "14\n",
      "13\n",
      "12\n",
      "3\n",
      "1\n",
      "8\n",
      "16\n",
      "6\n",
      "7\n",
      "13\n",
      "10\n",
      "18\n",
      "3\n",
      "1\n",
      "19\n",
      "3\n",
      "0\n"
     ]
    }
   ],
   "source": [
    "# Задача 1\n",
    "\n",
    "with open('/home/sergei/Downloads/dataset_3363_2.txt') as inputFile:\n",
    "    string = inputFile.readline()\n",
    "outputFile = open('/home/sergei/Downloads/1.txt', 'w')\n",
    "    \n",
    "i = 0\n",
    "while i < len(string):\n",
    "    j = i + 1\n",
    "    count = 0\n",
    "    while j != len(string) and string[j].isdigit():\n",
    "        count = count + 1\n",
    "        j = j + 1\n",
    "    amount = 0\n",
    "    decades = 1\n",
    "    \n",
    "    numbs = count\n",
    "    while numbs >= 1:\n",
    "        amount = amount + int(string[i + numbs]) * decades\n",
    "        decades = decades * 10\n",
    "        numbs = numbs - 1\n",
    "    print(amount)\n",
    "    \n",
    "    l = []\n",
    "    for replays in range(amount):\n",
    "        l += [string[i]]\n",
    "    finalString = ''.join(l)\n",
    "    \n",
    "    \n",
    "    outputFile.write(finalString)\n",
    "        \n",
    "    i = i + count + 1\n",
    "outputFile.write('\\n')\n",
    "outputFile.close()"
   ]
  },
  {
   "cell_type": "code",
   "execution_count": 129,
   "metadata": {
    "collapsed": false
   },
   "outputs": [],
   "source": [
    "# Задача 2\n",
    "def countStrings(d, key):\n",
    "    key = key.lower()\n",
    "    if d.get(key) is not None:\n",
    "        d[key] = d[key] + 1\n",
    "    else:\n",
    "        d[key] = 1\n",
    "\n",
    "def maxCountString(d):\n",
    "    maxValue = 0\n",
    "    maxKey = 'a'\n",
    "    for key in d:\n",
    "        if d[key] > maxValue:\n",
    "            maxValue = d[key]\n",
    "            maxKey = key\n",
    "    \n",
    "    for key in d:\n",
    "        if d[maxKey] == d[key] and maxKey != key:\n",
    "            if key < maxKey:\n",
    "                maxKey = key\n",
    "                \n",
    "    \n",
    "    return [maxKey, d[maxKey]]\n",
    "    \n",
    "        \n",
    "        \n",
    "d = dict()\n",
    "with open('D:\\\\dataset_3363_3.txt') as inf:\n",
    "    for line in inf:\n",
    "        line = line.strip()\n",
    "        strings = [s for s in line.split(\" \")]\n",
    "        for s in strings:\n",
    "            countStrings(d, s)\n",
    "            \n",
    "resList = maxCountString(d)\n",
    "\n",
    "with open('D:\\\\1.txt', 'w') as output:\n",
    "    myString = str(resList[0]) + ' ' + str(resList[1]) + '\\n';\n",
    "    output.write(myString)\n"
   ]
  },
  {
   "cell_type": "code",
   "execution_count": 22,
   "metadata": {
    "collapsed": false
   },
   "outputs": [],
   "source": [
    "# Задача 3\n",
    "myList = []\n",
    "myDict = dict()\n",
    "\n",
    "meanMath = 0\n",
    "meanPhys = 0\n",
    "meanRuss = 0\n",
    "n = 0\n",
    "\n",
    "with open('D:\\\\dataset_3363_4.txt') as inputFile:\n",
    "    for line in inputFile:\n",
    "        n = n + 1\n",
    "        line = line.strip()\n",
    "        contain = [s for s in line.split(';')]\n",
    "        myList += [((int(contain[1]) + int(contain[2]) + int(contain[3])) / 3)]\n",
    "        meanMath += int(contain[1])\n",
    "        meanPhys += int(contain[2])\n",
    "        meanRuss += int(contain[3])\n",
    "        \n",
    "meanMath = meanMath / n\n",
    "meanPhys = meanPhys / n\n",
    "meanRuss = meanRuss / n\n",
    "        \n",
    "with open('D:\\\\1.txt', 'w') as outputFile:\n",
    "    for s in myList:\n",
    "        myString = str(s) + '\\n'\n",
    "        outputFile.write(myString)\n",
    "    myString = str(meanMath) + \" \" + str(meanPhys) + \" \" + str(meanRuss)\n",
    "    outputFile.write(myString)"
   ]
  },
  {
   "cell_type": "markdown",
   "metadata": {},
   "source": [
    "## 3.4 Модули, подключение модулей"
   ]
  },
  {
   "cell_type": "code",
   "execution_count": null,
   "metadata": {
    "collapsed": true
   },
   "outputs": [],
   "source": []
  },
  {
   "cell_type": "code",
   "execution_count": 1,
   "metadata": {
    "collapsed": false
   },
   "outputs": [
    {
     "name": "stdout",
     "output_type": "stream",
     "text": [
      "10\n",
      "62.83185307179586\n"
     ]
    }
   ],
   "source": [
    "# Задача 1\n",
    "import math\n",
    "r = float(input())\n",
    "print(str(2 * r * math.pi))"
   ]
  },
  {
   "cell_type": "code",
   "execution_count": null,
   "metadata": {
    "collapsed": true
   },
   "outputs": [],
   "source": [
    "# Задача 2\n",
    "import sys\n",
    "for i in range(1, len(sys.argv)):\n",
    "    print(sys.argv[i])"
   ]
  },
  {
   "cell_type": "markdown",
   "metadata": {
    "collapsed": true
   },
   "source": [
    "## 3.5. Установка дополнительных модулей"
   ]
  },
  {
   "cell_type": "markdown",
   "metadata": {},
   "source": [
    "### 3.5.1. Использование библиотеки request в качестве пример"
   ]
  },
  {
   "cell_type": "markdown",
   "metadata": {},
   "source": [
    "Для добавления библиотеки команда: conda install request. \n",
    "http://docs.python-requests.org/ - справочник"
   ]
  },
  {
   "cell_type": "code",
   "execution_count": 1,
   "metadata": {
    "collapsed": false
   },
   "outputs": [],
   "source": [
    "#пример использования:\n",
    "import requests\n",
    "\n",
    "# r = requests.get('http://example.com') # простой GET запрос\n",
    "# print(r.text) # вывод ответа от сервера (по сути это содержимое html-страницы)\n",
    "\n",
    "# url = 'http://example.com'\n",
    "# par = {'key1': 'value1', 'key2': 'value2'}\n",
    "# r = requests.get(url, params = par) # Передача параметров в запрос\n",
    "# print(r.url) # Сформированный url-адрес с учетом параметров GET запроса\n",
    "\n",
    "# url = 'http://httpbin.org/cookies'\n",
    "# cookies = {'cookies_are': 'working'}\n",
    "# r = requests.get(url, cookies = cookies) # Отправка сформированных cookies на сервер\n",
    "# print(r.text)\n",
    "\n",
    "\n",
    "# print(r.cookies['example_cookie_name']) # использование cookies, полученных от сервер"
   ]
  },
  {
   "cell_type": "code",
   "execution_count": 9,
   "metadata": {
    "collapsed": false
   },
   "outputs": [
    {
     "name": "stdout",
     "output_type": "stream",
     "text": [
      "65\n"
     ]
    }
   ],
   "source": [
    "# Задача 1\n",
    "import requests\n",
    "\n",
    "with open('/home/sergei/Downloads/dataset_3378_2.txt') as inputFile:\n",
    "    url = inputFile.readline().strip()\n",
    "\n",
    "r = requests.get(url)\n",
    "count = 0\n",
    "\n",
    "strings = [s for s in r.text.splitlines()]\n",
    "\n",
    "for line in strings:\n",
    "    count = count + 1\n",
    "print(count)\n",
    "\n",
    "with open('/home/sergei/Downloads/1.txt', 'w') as outputFile:\n",
    "    outputFile.write(str(count) + \" \")"
   ]
  },
  {
   "cell_type": "code",
   "execution_count": 32,
   "metadata": {
    "collapsed": false
   },
   "outputs": [
    {
     "name": "stdout",
     "output_type": "stream",
     "text": [
      "https://stepic.org/media/attachments/course67/3.6.3/843785.txt\n"
     ]
    }
   ],
   "source": [
    "# Задача 2\n",
    "import requests\n",
    "import os\n",
    "\n",
    "with open('/home/sergei/Downloads/dataset_3378_3.txt') as inputFile:\n",
    "    url = inputFile.readline().strip()\n",
    "\n",
    "dirname = 'https://stepic.org/media/attachments/course67/3.6.3/'\n",
    "\n",
    "while True:\n",
    "    r = requests.get(url)\n",
    "    listStr = [s for s in r.text.split(\" \")]\n",
    "    if listStr[0] == 'We':\n",
    "        break\n",
    "    else:\n",
    "        url = os.path.join('', dirname, r.text.strip())\n",
    "print(url)\n",
    "    "
   ]
  },
  {
   "cell_type": "markdown",
   "metadata": {},
   "source": [
    "## Задачи по материалам недели"
   ]
  },
  {
   "cell_type": "code",
   "execution_count": null,
   "metadata": {
    "collapsed": true
   },
   "outputs": [],
   "source": [
    "# Задача 1\n"
   ]
  },
  {
   "cell_type": "markdown",
   "metadata": {
    "collapsed": false
   },
   "source": [
    "## Библиотеки для анализа данных"
   ]
  },
  {
   "cell_type": "markdown",
   "metadata": {},
   "source": [
    "#### NumPy - работа с числовыми массивами "
   ]
  },
  {
   "cell_type": "markdown",
   "metadata": {},
   "source": [
    "#### matplotlib - построение графиков "
   ]
  },
  {
   "cell_type": "markdown",
   "metadata": {},
   "source": [
    "#### SciPy - функции для научных вычислений"
   ]
  },
  {
   "cell_type": "markdown",
   "metadata": {},
   "source": [
    "#### pandas - таблицы (как matrix и data.frame в R) "
   ]
  },
  {
   "cell_type": "markdown",
   "metadata": {},
   "source": [
    "#### Scikit-learn - алгоритмы машинного обучения "
   ]
  },
  {
   "cell_type": "markdown",
   "metadata": {},
   "source": [
    "#### PythonSeaborn - визуализация статистических данных "
   ]
  },
  {
   "cell_type": "markdown",
   "metadata": {},
   "source": [
    "### Работа с библиотеками numpy и matplotlib "
   ]
  },
  {
   "cell_type": "markdown",
   "metadata": {},
   "source": [
    "#### Команда для установки: conda install numpy "
   ]
  },
  {
   "cell_type": "markdown",
   "metadata": {},
   "source": [
    "#### Команда для установки: conda install matplotlib "
   ]
  },
  {
   "cell_type": "code",
   "execution_count": null,
   "metadata": {
    "collapsed": true
   },
   "outputs": [],
   "source": []
  }
 ],
 "metadata": {
  "kernelspec": {
   "display_name": "Python 3",
   "language": "python",
   "name": "python3"
  },
  "language_info": {
   "codemirror_mode": {
    "name": "ipython",
    "version": 3
   },
   "file_extension": ".py",
   "mimetype": "text/x-python",
   "name": "python",
   "nbconvert_exporter": "python",
   "pygments_lexer": "ipython3",
   "version": "3.5.1"
  }
 },
 "nbformat": 4,
 "nbformat_minor": 0
}
