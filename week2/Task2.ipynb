{
 "cells": [
  {
   "cell_type": "markdown",
   "metadata": {},
   "source": [
    "# Модуль 2"
   ]
  },
  {
   "cell_type": "markdown",
   "metadata": {},
   "source": [
    "## Строки"
   ]
  },
  {
   "cell_type": "markdown",
   "metadata": {},
   "source": [
    "### Символы и строки"
   ]
  },
  {
   "cell_type": "code",
   "execution_count": 6,
   "metadata": {
    "collapsed": false
   },
   "outputs": [
    {
     "data": {
      "text/plain": [
       "'A'"
      ]
     },
     "execution_count": 6,
     "metadata": {},
     "output_type": "execute_result"
    }
   ],
   "source": [
    "genome = 'ATGG'\n",
    "genome[-1] # G\n",
    "genome[-2] # G\n",
    "genome[-3] # T\n",
    "genome[-4] # A"
   ]
  },
  {
   "cell_type": "markdown",
   "metadata": {},
   "source": [
    "##### genome[1] = 'C' # ошибка! Строки являеются неизменяемым типом данным, \n",
    "##### #поэтому изменение отдельных символов приведет к ошибке"
   ]
  },
  {
   "cell_type": "markdown",
   "metadata": {},
   "source": [
    "#### Перечисление символов строки с помощью индексов"
   ]
  },
  {
   "cell_type": "code",
   "execution_count": 8,
   "metadata": {
    "collapsed": false
   },
   "outputs": [
    {
     "name": "stdout",
     "output_type": "stream",
     "text": [
      "A\n",
      "T\n",
      "G\n",
      "G\n"
     ]
    }
   ],
   "source": [
    "for c in genome:\n",
    "    print(c)"
   ]
  },
  {
   "cell_type": "markdown",
   "metadata": {},
   "source": [
    "#### Методы строк:"
   ]
  },
  {
   "cell_type": "markdown",
   "metadata": {},
   "source": [
    "##### - s.count(p) - сколько раз строка p встречается в строке s"
   ]
  },
  {
   "cell_type": "markdown",
   "metadata": {},
   "source": [
    "##### - s.upper() - переход к верхнему регистру"
   ]
  },
  {
   "cell_type": "markdown",
   "metadata": {},
   "source": [
    "##### - s.lower() - переход к нижнему регистру"
   ]
  },
  {
   "cell_type": "markdown",
   "metadata": {},
   "source": [
    "##### - s.find(p) - первое вхождение (индекс) p в s "
   ]
  },
  {
   "cell_type": "markdown",
   "metadata": {},
   "source": [
    "##### - s.find('A') - индекс элемента A в строке s, если такого элемента нет, то возвращает -1 "
   ]
  },
  {
   "cell_type": "markdown",
   "metadata": {},
   "source": [
    "##### - s.replace('c', 'C') - замена всех элементов 'c' в строке s на элементы 'C' "
   ]
  },
  {
   "cell_type": "markdown",
   "metadata": {},
   "source": [
    "##### * Проверка на вхождения в строку: if 'TG' in s: ..."
   ]
  },
  {
   "cell_type": "markdown",
   "metadata": {},
   "source": [
    "#### Задача 1"
   ]
  },
  {
   "cell_type": "code",
   "execution_count": 9,
   "metadata": {
    "collapsed": false
   },
   "outputs": [
    {
     "name": "stdout",
     "output_type": "stream",
     "text": [
      "acggtgttat\n",
      "40.0\n"
     ]
    }
   ],
   "source": [
    "s = input()\n",
    "s = s.lower()\n",
    "print( (s.count('g') + s.count('c')) / len(s)  * 100 )"
   ]
  },
  {
   "cell_type": "markdown",
   "metadata": {},
   "source": [
    "#### Slicing - механизм для взятия диапозонов символов"
   ]
  },
  {
   "cell_type": "code",
   "execution_count": 18,
   "metadata": {
    "collapsed": false
   },
   "outputs": [
    {
     "data": {
      "text/plain": [
       "'TCGAGGCTTA'"
      ]
     },
     "execution_count": 18,
     "metadata": {},
     "output_type": "execute_result"
    }
   ],
   "source": [
    "dna = 'ATTCGGAGCT'\n",
    "dna[1] # T\n",
    "dna[1:4] # TTC\n",
    "dna[:4] # ATTC\n",
    "dna[4:] # GGAGCT\n",
    "dna[-4:] # с символа -4 до конца, т.е. AGCT\n",
    "dna[1:-1] # с символа 1 до -1, при этом символ -1 не учитывается, т.е. TTCGGAGC\n",
    "dna[1:-1:2] # шаг(2), с которым следует брать символы от 1 до -1, т.е TCGG\n",
    "dna[::-1] # при отрицальном шаги символы берутся наоборот, т.е. в данном случае строка идет в обратном порядке"
   ]
  },
  {
   "cell_type": "markdown",
   "metadata": {},
   "source": [
    "#### Задача 2"
   ]
  },
  {
   "cell_type": "code",
   "execution_count": 24,
   "metadata": {
    "collapsed": false
   },
   "outputs": [
    {
     "name": "stdout",
     "output_type": "stream",
     "text": [
      "aaaabbcaa\n",
      "a4b2c1a2"
     ]
    }
   ],
   "source": [
    "string = input()\n",
    "count = 1\n",
    "\n",
    "for i in range(len(string)):\n",
    "    if i != len(string) - 1 and string[i] == string[i + 1]:\n",
    "        count = count + 1\n",
    "    else:\n",
    "        print(string[i] + str(count), end = \"\")\n",
    "        count = 1\n",
    "\n"
   ]
  },
  {
   "cell_type": "markdown",
   "metadata": {},
   "source": [
    "## Задачи по материалам недели"
   ]
  },
  {
   "cell_type": "code",
   "execution_count": 28,
   "metadata": {
    "collapsed": false
   },
   "outputs": [
    {
     "name": "stdout",
     "output_type": "stream",
     "text": [
      "1\n",
      "-1\n",
      "2\n"
     ]
    }
   ],
   "source": [
    "# Задача 1\n",
    "sq = 0\n",
    "s = 0\n",
    "\n",
    "while True:\n",
    "    k = int(input())\n",
    "    s += k\n",
    "    sq += k ** 2\n",
    "    if s == 0:\n",
    "        break\n",
    "    \n",
    "print(sq)"
   ]
  },
  {
   "cell_type": "code",
   "execution_count": 29,
   "metadata": {
    "collapsed": false
   },
   "outputs": [
    {
     "name": "stdout",
     "output_type": "stream",
     "text": [
      "7\n",
      "1 2 2 3 3 3 4 "
     ]
    }
   ],
   "source": [
    "# Задача 2\n",
    "n = int(input())\n",
    "\n",
    "s = 0\n",
    "i = 1\n",
    "while s < n:\n",
    "    for j in range(1, i + 1):\n",
    "        print(str(i), end = \" \")\n",
    "        s += 1\n",
    "        if s == n:\n",
    "            break\n",
    "        \n",
    "    i += 1"
   ]
  },
  {
   "cell_type": "code",
   "execution_count": null,
   "metadata": {
    "collapsed": true
   },
   "outputs": [],
   "source": [
    "# Задача 3\n",
    "list = [int(i) for i in input().split()]\n",
    "n  = int(input())\n",
    "\n",
    "thereIs = False\n",
    "\n",
    "for i in range(len(list)):\n",
    "    if list[i] == n:\n",
    "        print(i, end = \" \")\n",
    "        thereIs = True\n",
    "        \n",
    "if thereIs == False:\n",
    "    print(\"Отсутствует\")"
   ]
  },
  {
   "cell_type": "code",
   "execution_count": 31,
   "metadata": {
    "collapsed": false
   },
   "outputs": [
    {
     "name": "stdout",
     "output_type": "stream",
     "text": [
      "9\n",
      "1\n",
      "2\n",
      "end\n"
     ]
    }
   ],
   "source": [
    "# Задача 4 - еще не решена\n",
    "s = input()\n",
    "lines = []\n",
    "while s != 'end':\n",
    "    lines += []\n",
    "    s = input()\n",
    "    \n",
    "lRight = []\n",
    "lLeft = []\n",
    "lBottom = []\n",
    "lTop = []\n",
    "\n",
    "for l in lines:\n",
    "    numbs = [int(n) for n in l.split(\" \")]\n",
    "    \n",
    "    \n"
   ]
  },
  {
   "cell_type": "code",
   "execution_count": null,
   "metadata": {
    "collapsed": true
   },
   "outputs": [],
   "source": [
    "# Задача 5"
   ]
  },
  {
   "cell_type": "code",
   "execution_count": null,
   "metadata": {
    "collapsed": true
   },
   "outputs": [],
   "source": []
  }
 ],
 "metadata": {
  "kernelspec": {
   "display_name": "Python 3",
   "language": "python",
   "name": "python3"
  },
  "language_info": {
   "codemirror_mode": {
    "name": "ipython",
    "version": 3
   },
   "file_extension": ".py",
   "mimetype": "text/x-python",
   "name": "python",
   "nbconvert_exporter": "python",
   "pygments_lexer": "ipython3",
   "version": "3.5.1"
  }
 },
 "nbformat": 4,
 "nbformat_minor": 0
}
